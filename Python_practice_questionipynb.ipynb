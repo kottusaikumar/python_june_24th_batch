{
  "nbformat": 4,
  "nbformat_minor": 0,
  "metadata": {
    "colab": {
      "provenance": [],
      "authorship_tag": "ABX9TyN8nFaRroojWvQdryyJwtqu",
      "include_colab_link": true
    },
    "kernelspec": {
      "name": "python3",
      "display_name": "Python 3"
    },
    "language_info": {
      "name": "python"
    }
  },
  "cells": [
    {
      "cell_type": "markdown",
      "metadata": {
        "id": "view-in-github",
        "colab_type": "text"
      },
      "source": [
        "<a href=\"https://colab.research.google.com/github/kottusaikumar/python_june_24th_batch/blob/main/Python_practice_questionipynb.ipynb\" target=\"_parent\"><img src=\"https://colab.research.google.com/assets/colab-badge.svg\" alt=\"Open In Colab\"/></a>"
      ]
    },
    {
      "cell_type": "code",
      "source": [
        "import numpy as np\n",
        "import pandas as pd"
      ],
      "metadata": {
        "id": "G8ylRBO_38dG"
      },
      "execution_count": null,
      "outputs": []
    },
    {
      "cell_type": "code",
      "source": [
        "a=[5,6,5,7,7,8]\n",
        "b=13\n",
        "c=[]\n",
        "result=0\n",
        "for i in range(len(a)-1):\n",
        "  for j in range(i+1,len(a)):\n",
        "    if a[i]+a[j]==b:\n",
        "      if a[i] and a[j] not in c:\n",
        "        c.append(a[i])\n",
        "        c.append(a[j])\n",
        "        result+=1\n",
        "print(result)"
      ],
      "metadata": {
        "colab": {
          "base_uri": "https://localhost:8080/"
        },
        "id": "OP_ABFgEBkuV",
        "outputId": "54e990cf-d1dd-433e-b553-31e8e896ff0f"
      },
      "execution_count": 64,
      "outputs": [
        {
          "output_type": "stream",
          "name": "stdout",
          "text": [
            "2\n"
          ]
        }
      ]
    },
    {
      "cell_type": "code",
      "source": [
        "a=[1,2,4,9,7,6,2,9,3,8]\n",
        "max=0\n",
        "\n",
        "b=[]\n",
        "for i in range(len(a)-1):\n",
        "  c=1\n",
        "  for j in range(i+1,len(a)):\n",
        "    if a[i]==a[j]:\n",
        "      c+=1\n",
        "    if c>max:\n",
        "      b=[a[i]]\n",
        "      max=c\n",
        "    elif c==max:\n",
        "      if a[i] not in b:\n",
        "        b.append(a[i])\n",
        "print(b)\n",
        "\n",
        "\n"
      ],
      "metadata": {
        "colab": {
          "base_uri": "https://localhost:8080/"
        },
        "id": "PVF7MX_1Hd2G",
        "outputId": "c092170a-980e-46ae-f5c9-f4b195dc0cf1"
      },
      "execution_count": 67,
      "outputs": [
        {
          "output_type": "stream",
          "name": "stdout",
          "text": [
            "[2, 9]\n"
          ]
        }
      ]
    },
    {
      "cell_type": "code",
      "execution_count": null,
      "metadata": {
        "colab": {
          "base_uri": "https://localhost:8080/"
        },
        "id": "xwXiOVFJ3Svo",
        "outputId": "a17fb4f6-9467-43e8-e3c3-f74f4c46d32f"
      },
      "outputs": [
        {
          "output_type": "stream",
          "name": "stdout",
          "text": [
            "15\n"
          ]
        }
      ],
      "source": [
        "a=[[1,4,7,9],[6,3,2,1],[11,3,9,8],[6,14,14,2]]\n",
        "sum=0\n",
        "for i in range(len(a)):\n",
        "\n",
        "    sum+=a[i][i]\n",
        "print(sum)\n"
      ]
    },
    {
      "cell_type": "code",
      "source": [
        "a=[[1,4,7,9],[6,3,2,1],[11,3,9,8],[6,14,14,2]]\n",
        "sum=0\n",
        "b=0\n",
        "res=[]\n",
        "for i in range(len(a)):\n",
        "  sum=0\n",
        "  for j in range(len(a)):\n",
        "    sum+=a[j][i]\n",
        "  res.append(sum)\n",
        "for k in range(len(res)):\n",
        "  b+=res[k]\n",
        "\n",
        "print(b)"
      ],
      "metadata": {
        "colab": {
          "base_uri": "https://localhost:8080/"
        },
        "id": "xeVg7VkRApCX",
        "outputId": "267976c5-1222-4689-a87b-b265ac0e743d"
      },
      "execution_count": null,
      "outputs": [
        {
          "output_type": "stream",
          "name": "stdout",
          "text": [
            "100\n"
          ]
        }
      ]
    },
    {
      "cell_type": "code",
      "source": [
        "a = \"Hello World\"\n",
        "vowels = \"aeiou\"\n",
        "d = {}\n",
        "e={}\n",
        "for i in a:\n",
        "   if i.lower() in vowels:\n",
        "\n",
        "      d[i]=d.get(i,0)+1\n",
        "   else:\n",
        "    if i.lower()!=\" \":\n",
        "      d[i]=0\n",
        "\n",
        "for j in vowels:\n",
        "  if j in d:\n",
        "    e[j]=d.get(j)\n",
        "  else:\n",
        "    e[j]=0\n",
        "print(e)"
      ],
      "metadata": {
        "colab": {
          "base_uri": "https://localhost:8080/"
        },
        "id": "THJkxEy9MIuS",
        "outputId": "1fc7021d-dcc4-46cf-ffd5-72479b051fcf"
      },
      "execution_count": null,
      "outputs": [
        {
          "output_type": "stream",
          "name": "stdout",
          "text": [
            "{'a': 0, 'e': 1, 'i': 0, 'o': 2, 'u': 0}\n"
          ]
        }
      ]
    },
    {
      "cell_type": "code",
      "source": [
        "b=[2,3,4,5,6,7,8,9,10]\n",
        "sublist=[]\n",
        "for i in b:\n",
        "  if i>1:\n",
        "    for j in range(2,i):\n",
        "      if i%j==0:\n",
        "        break\n",
        "    else:\n",
        "        sublist.append(i)\n",
        "print(sublist)\n"
      ],
      "metadata": {
        "colab": {
          "base_uri": "https://localhost:8080/"
        },
        "id": "Hi6H5klRPSDx",
        "outputId": "1fbcc160-5306-46d3-d73a-943c20eed5ae"
      },
      "execution_count": null,
      "outputs": [
        {
          "output_type": "stream",
          "name": "stdout",
          "text": [
            "[2, 3, 5, 7]\n"
          ]
        }
      ]
    },
    {
      "cell_type": "code",
      "source": [
        "c = [(1, 3), (4, 2), (2, 5), (3, 1)]\n",
        "def second_element(t):\n",
        "    return t[1]\n",
        "result = sorted(c, key=second_element)\n",
        "print(result)"
      ],
      "metadata": {
        "colab": {
          "base_uri": "https://localhost:8080/"
        },
        "id": "mNq1jKe6gfPt",
        "outputId": "38ea55f5-c0c6-41b7-a292-57de1e070819"
      },
      "execution_count": null,
      "outputs": [
        {
          "output_type": "stream",
          "name": "stdout",
          "text": [
            "[(3, 1), (4, 2), (1, 3), (2, 5)]\n"
          ]
        }
      ]
    },
    {
      "cell_type": "code",
      "source": [
        "d=({1,2,3},{3,4,5})\n",
        "c=[]\n",
        "for i in d:\n",
        "  for j in i:\n",
        "    if j not in c:\n",
        "      c.append(j)\n",
        "s=set(c)\n",
        "print(s)\n"
      ],
      "metadata": {
        "id": "EEwGetWIghQX",
        "colab": {
          "base_uri": "https://localhost:8080/"
        },
        "outputId": "9c4582ac-308a-4078-af28-596fba7664f2"
      },
      "execution_count": null,
      "outputs": [
        {
          "output_type": "stream",
          "name": "stdout",
          "text": [
            "{1, 2, 3, 4, 5}\n"
          ]
        }
      ]
    },
    {
      "cell_type": "code",
      "source": [
        "s={\"a\":1,\"b\":2,\"c\":3}\n",
        "d={}\n",
        "for i,j in s.items():\n",
        "  d[j]=i\n",
        "print(d)"
      ],
      "metadata": {
        "id": "CIOymnwmgyO1",
        "colab": {
          "base_uri": "https://localhost:8080/"
        },
        "outputId": "abe44bb8-6b81-4c85-a8e3-9e5b84c4ef1a"
      },
      "execution_count": null,
      "outputs": [
        {
          "output_type": "stream",
          "name": "stdout",
          "text": [
            "{1: 'a', 2: 'b', 3: 'c'}\n"
          ]
        }
      ]
    }
  ]
}