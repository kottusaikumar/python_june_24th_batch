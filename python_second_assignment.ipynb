{
  "nbformat": 4,
  "nbformat_minor": 0,
  "metadata": {
    "colab": {
      "provenance": [],
      "authorship_tag": "ABX9TyPwR48qWyjig/RlUGhyHSMY",
      "include_colab_link": true
    },
    "kernelspec": {
      "name": "python3",
      "display_name": "Python 3"
    },
    "language_info": {
      "name": "python"
    }
  },
  "cells": [
    {
      "cell_type": "markdown",
      "metadata": {
        "id": "view-in-github",
        "colab_type": "text"
      },
      "source": [
        "<a href=\"https://colab.research.google.com/github/kottusaikumar/python_june_24th_batch/blob/main/python_second_assignment.ipynb\" target=\"_parent\"><img src=\"https://colab.research.google.com/assets/colab-badge.svg\" alt=\"Open In Colab\"/></a>"
      ]
    },
    {
      "cell_type": "markdown",
      "source": [
        "1. # Print the input text without vowels using List comprehensions\n",
        "\n",
        "input = 'hai'\n",
        "Expected output = h\n",
        "\n",
        "\n",
        "---\n",
        "\n"
      ],
      "metadata": {
        "id": "7Zl_WZJeeSSL"
      }
    },
    {
      "cell_type": "code",
      "execution_count": null,
      "metadata": {
        "colab": {
          "base_uri": "https://localhost:8080/"
        },
        "id": "uUGWXipweOgj",
        "outputId": "09fce05f-5835-472f-c7f5-159e048b0789"
      },
      "outputs": [
        {
          "output_type": "stream",
          "name": "stdout",
          "text": [
            "h\n"
          ]
        }
      ],
      "source": [
        "input=\"hai\"\n",
        "for i in input:\n",
        "  if i.lower() not in 'aeiou':\n",
        "    print(i)"
      ]
    },
    {
      "cell_type": "markdown",
      "source": [
        "2.  Print only vowels from the text using List comprehensions\n",
        "input = data\n",
        "Expected output = dt\n"
      ],
      "metadata": {
        "id": "5XggvqgRgOI8"
      }
    },
    {
      "cell_type": "code",
      "source": [
        "input = \"data\"\n",
        "output=''.join([i for i in input if i.lower() not in 'aeiou'])\n",
        "print(output)"
      ],
      "metadata": {
        "colab": {
          "base_uri": "https://localhost:8080/"
        },
        "id": "Z9hgXGp9gZaK",
        "outputId": "ad1f178f-78ce-49bb-d4f5-9ec283b49ef6"
      },
      "execution_count": null,
      "outputs": [
        {
          "output_type": "stream",
          "name": "stdout",
          "text": [
            "dt\n"
          ]
        }
      ]
    },
    {
      "cell_type": "markdown",
      "source": [
        "3. print each valu from the list with its index\n",
        "input = [10,11,50,34]\n",
        "Expected output = [100 , 111 , 502 , 343]\n"
      ],
      "metadata": {
        "id": "WXLEDOppixUl"
      }
    },
    {
      "cell_type": "code",
      "source": [
        "input = [10,11,50,34]\n",
        "res=[]\n",
        "for i in range(len(input)):\n",
        "  if i%2==0:\n",
        "   res.append((input[i]*10)+i)\n",
        "  else:\n",
        "    res.append((input[i]*10)+(i))\n",
        "print(res)"
      ],
      "metadata": {
        "colab": {
          "base_uri": "https://localhost:8080/"
        },
        "id": "FMQdegI8iyzc",
        "outputId": "d25d5681-c73b-432e-f83d-3bf217927459"
      },
      "execution_count": null,
      "outputs": [
        {
          "output_type": "stream",
          "name": "stdout",
          "text": [
            "[100, 111, 502, 343]\n"
          ]
        }
      ]
    },
    {
      "cell_type": "markdown",
      "source": [
        "4. This is a Python Program to print all integers that aren’t divisible by either 2 or 3 and lies between 1 and 50.\n"
      ],
      "metadata": {
        "id": "uPhKjqIYmnEp"
      }
    },
    {
      "cell_type": "code",
      "source": [
        "input=51\n",
        "for i in range(1,input):\n",
        "  if i%2!=0 and i%3!=0:\n",
        "    print(i)\n"
      ],
      "metadata": {
        "colab": {
          "base_uri": "https://localhost:8080/"
        },
        "id": "hqQ7oVJzm3S2",
        "outputId": "1e08cef9-3c4b-4052-cde8-21d888909760"
      },
      "execution_count": null,
      "outputs": [
        {
          "output_type": "stream",
          "name": "stdout",
          "text": [
            "1\n",
            "5\n",
            "7\n",
            "11\n",
            "13\n",
            "17\n",
            "19\n",
            "23\n",
            "25\n",
            "29\n",
            "31\n",
            "35\n",
            "37\n",
            "41\n",
            "43\n",
            "47\n",
            "49\n"
          ]
        }
      ]
    },
    {
      "cell_type": "markdown",
      "source": [
        "5.  The program takes in an integer and prints the smallest divisor of the integer."
      ],
      "metadata": {
        "id": "GhxQkewXoAih"
      }
    },
    {
      "cell_type": "code",
      "source": [
        "input= 99\n",
        "for i in range(2,input):\n",
        "  if input%i==0:\n",
        "    smallest=i\n",
        "    break\n",
        "if smallest is None:\n",
        "  print(\"prime number\")\n",
        "else:\n",
        "  print(f'smallest number = {i}' )"
      ],
      "metadata": {
        "id": "76PxoVjvoAFf",
        "colab": {
          "base_uri": "https://localhost:8080/"
        },
        "outputId": "255437aa-7cc0-4228-cbcf-a836560285e6"
      },
      "execution_count": null,
      "outputs": [
        {
          "output_type": "stream",
          "name": "stdout",
          "text": [
            "smallest number = 3\n"
          ]
        }
      ]
    },
    {
      "cell_type": "markdown",
      "source": [
        "6. Write a Python program to check if it is a strong number or not .\n"
      ],
      "metadata": {
        "id": "-vgQ7Ez0qLEa"
      }
    },
    {
      "cell_type": "code",
      "source": [
        "input=145\n",
        "st =str(input)\n",
        "res=[]\n",
        "dic={'0':1,'1': 1,'2':4,'3':6,'4':24,'5':120,'6':720,'7':5040,'8':40320,'9':362880}\n",
        "for i in range(len(st)):\n",
        "  res.append(dic[st[i]])\n",
        "\n",
        "print(res)\n",
        "sum=0\n",
        "\n",
        "for j in range(len(res)):\n",
        "  sum+=res[j]\n",
        "print(sum)\n",
        "\n",
        "if (input==sum ):\n",
        "  print(\"strong number\")\n",
        "else:\n",
        "  print(\"not strong number\")\n",
        "\n",
        "\n",
        "\n",
        "\n"
      ],
      "metadata": {
        "colab": {
          "base_uri": "https://localhost:8080/"
        },
        "id": "QzM928_jqMK1",
        "outputId": "d2493adc-0581-4f1c-c35e-ed37516f73b3"
      },
      "execution_count": null,
      "outputs": [
        {
          "output_type": "stream",
          "name": "stdout",
          "text": [
            "[1, 24, 120]\n",
            "145\n",
            "strong number\n"
          ]
        }
      ]
    },
    {
      "cell_type": "markdown",
      "source": [
        " 7. Write a Python program that takes input from the user and displays that input back in upper and lower cases.\n"
      ],
      "metadata": {
        "id": "QB2X0Q0TYf2q"
      }
    },
    {
      "cell_type": "code",
      "source": [
        "user= \"ramsai\"\n",
        "print(f'upper case: {user.upper()}')\n",
        "print(f'lower case: {user.lower()}')\n"
      ],
      "metadata": {
        "colab": {
          "base_uri": "https://localhost:8080/"
        },
        "id": "dDXn8j6OYgvP",
        "outputId": "76e2c80b-30ee-4022-e0e7-8757a01afade"
      },
      "execution_count": null,
      "outputs": [
        {
          "output_type": "stream",
          "name": "stdout",
          "text": [
            "upper case: RAMSAI\n",
            "lower case: ramsai\n"
          ]
        }
      ]
    },
    {
      "cell_type": "markdown",
      "source": [
        "8. Write a Python program to remove spaces from a given string\n",
        "\n",
        "input = united states\n",
        "output = unitedstates\n"
      ],
      "metadata": {
        "id": "ezhCvZ1RbmK9"
      }
    },
    {
      "cell_type": "code",
      "source": [
        "string = 'until  state '\n",
        "res=\"\"\n",
        "for i in string:\n",
        "  if i!= \" \":\n",
        "\n",
        "    res+=i\n",
        "\n",
        "print(res)\n"
      ],
      "metadata": {
        "colab": {
          "base_uri": "https://localhost:8080/"
        },
        "id": "GtQwSbn-btwm",
        "outputId": "f4e8b12c-06dc-476d-b28b-f529f4625047"
      },
      "execution_count": null,
      "outputs": [
        {
          "output_type": "stream",
          "name": "stdout",
          "text": [
            "untilstate\n"
          ]
        }
      ]
    },
    {
      "cell_type": "markdown",
      "source": [
        "9 . Write a Python program to capitalize first and last letters of each word of a given string.\n"
      ],
      "metadata": {
        "id": "8w4DCFF_lAiy"
      }
    },
    {
      "cell_type": "code",
      "source": [
        "input=\"ramsai\"\n",
        "res=\"\"\n",
        "\n",
        "for i in range(len(input)):\n",
        "  if i==0 or i==len(input)-1:\n",
        "      res+=input[i].upper()\n",
        "  else:\n",
        "    res+=input[i]\n",
        "print(res)"
      ],
      "metadata": {
        "colab": {
          "base_uri": "https://localhost:8080/"
        },
        "id": "j8LjEPsLl2wG",
        "outputId": "58ca8843-d90c-40fe-e193-b44490b2c19a"
      },
      "execution_count": null,
      "outputs": [
        {
          "output_type": "stream",
          "name": "stdout",
          "text": [
            "RamsaI\n"
          ]
        }
      ]
    },
    {
      "cell_type": "markdown",
      "source": [
        "10 . write a python program to find length of a string but should not use        len keyword"
      ],
      "metadata": {
        "id": "GEbrPKH0pAkU"
      }
    },
    {
      "cell_type": "code",
      "source": [
        "input=\"kumarsai\"\n",
        "c=0\n",
        "for i in input:\n",
        "  c+=1\n",
        "print(c)"
      ],
      "metadata": {
        "colab": {
          "base_uri": "https://localhost:8080/"
        },
        "id": "KbLHzg7CpElv",
        "outputId": "dbea6455-bef8-49ae-b198-bdfbb5733db0"
      },
      "execution_count": null,
      "outputs": [
        {
          "output_type": "stream",
          "name": "stdout",
          "text": [
            "8\n"
          ]
        }
      ]
    }
  ]
}